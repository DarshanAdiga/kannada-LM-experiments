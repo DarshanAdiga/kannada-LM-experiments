{
 "cells": [
  {
   "cell_type": "code",
   "execution_count": 1,
   "id": "0d09e8a0",
   "metadata": {},
   "outputs": [
    {
     "data": {
      "application/vnd.jupyter.widget-view+json": {
       "model_id": "89ed35cb4d574d0499baf9052a96088b",
       "version_major": 2,
       "version_minor": 0
      },
      "text/plain": [
       "HBox(children=(HTML(value='Downloading'), FloatProgress(value=0.0, max=181.0), HTML(value='')))"
      ]
     },
     "metadata": {},
     "output_type": "display_data"
    },
    {
     "name": "stdout",
     "output_type": "stream",
     "text": [
      "\n"
     ]
    },
    {
     "data": {
      "application/vnd.jupyter.widget-view+json": {
       "model_id": "113ec5a9d703486e851053eaf3308deb",
       "version_major": 2,
       "version_minor": 0
      },
      "text/plain": [
       "HBox(children=(HTML(value='Downloading'), FloatProgress(value=0.0, max=411.0), HTML(value='')))"
      ]
     },
     "metadata": {},
     "output_type": "display_data"
    },
    {
     "name": "stdout",
     "output_type": "stream",
     "text": [
      "\n"
     ]
    },
    {
     "data": {
      "application/vnd.jupyter.widget-view+json": {
       "model_id": "0b7d086933194a0994bb628bcdde18f2",
       "version_major": 2,
       "version_minor": 0
      },
      "text/plain": [
       "HBox(children=(HTML(value='Downloading'), FloatProgress(value=0.0, max=3162999.0), HTML(value='')))"
      ]
     },
     "metadata": {},
     "output_type": "display_data"
    },
    {
     "name": "stdout",
     "output_type": "stream",
     "text": [
      "\n"
     ]
    },
    {
     "data": {
      "application/vnd.jupyter.widget-view+json": {
       "model_id": "1a0c10bd99aa44e8a16b24048590010f",
       "version_major": 2,
       "version_minor": 0
      },
      "text/plain": [
       "HBox(children=(HTML(value='Downloading'), FloatProgress(value=0.0, max=113.0), HTML(value='')))"
      ]
     },
     "metadata": {},
     "output_type": "display_data"
    },
    {
     "name": "stdout",
     "output_type": "stream",
     "text": [
      "\n"
     ]
    },
    {
     "data": {
      "application/vnd.jupyter.widget-view+json": {
       "model_id": "fb93b34e817c48a38d66d6e9633e603e",
       "version_major": 2,
       "version_minor": 0
      },
      "text/plain": [
       "HBox(children=(HTML(value='Downloading'), FloatProgress(value=0.0, max=953477430.0), HTML(value='')))"
      ]
     },
     "metadata": {},
     "output_type": "display_data"
    },
    {
     "name": "stdout",
     "output_type": "stream",
     "text": [
      "\n"
     ]
    },
    {
     "name": "stderr",
     "output_type": "stream",
     "text": [
      "Some weights of the model checkpoint at google/muril-base-cased were not used when initializing BertForMaskedLM: ['cls.seq_relationship.weight', 'cls.seq_relationship.bias']\n",
      "- This IS expected if you are initializing BertForMaskedLM from the checkpoint of a model trained on another task or with another architecture (e.g. initializing a BertForSequenceClassification model from a BertForPreTraining model).\n",
      "- This IS NOT expected if you are initializing BertForMaskedLM from the checkpoint of a model that you expect to be exactly identical (initializing a BertForSequenceClassification model from a BertForSequenceClassification model).\n"
     ]
    }
   ],
   "source": [
    "from transformers import AutoTokenizer, AutoModelForMaskedLM\n",
    "\n",
    "CHECKPOINT = \"google/muril-base-cased\"\n",
    "tokenizer = AutoTokenizer.from_pretrained(CHECKPOINT)\n",
    "model = AutoModelForMaskedLM.from_pretrained(CHECKPOINT)"
   ]
  },
  {
   "cell_type": "code",
   "execution_count": 18,
   "id": "ee0eee79",
   "metadata": {},
   "outputs": [
    {
     "data": {
      "text/plain": [
       "[{'sequence': 'ನಾನು ಮನೆಗೆ ಹೋಗಿ ಆಮೇಲೆ ಬರುತ್ತೇನೆ',\n",
       "  'score': 0.900797963142395,\n",
       "  'token': 18515,\n",
       "  'token_str': 'ಹೋಗಿ'},\n",
       " {'sequence': 'ನಾನು ಮನೆಗೆ ಹೋದರೆ ಆಮೇಲೆ ಬರುತ್ತೇನೆ',\n",
       "  'score': 0.021683232858777046,\n",
       "  'token': 83260,\n",
       "  'token_str': 'ಹೋದರೆ'},\n",
       " {'sequence': 'ನಾನು ಮನೆಗೆ ಹೋದ ಆಮೇಲೆ ಬರುತ್ತೇನೆ',\n",
       "  'score': 0.0126312505453825,\n",
       "  'token': 42415,\n",
       "  'token_str': 'ಹೋದ'},\n",
       " {'sequence': 'ನಾನು ಮನೆಗೆ ಹೋದಾಗ ಆಮೇಲೆ ಬರುತ್ತೇನೆ',\n",
       "  'score': 0.010973824188113213,\n",
       "  'token': 83572,\n",
       "  'token_str': 'ಹೋದಾಗ'},\n",
       " {'sequence': 'ನಾನು ಮನೆಗೆ ತೆರಳಿ ಆಮೇಲೆ ಬರುತ್ತೇನೆ',\n",
       "  'score': 0.0067179459147155285,\n",
       "  'token': 100194,\n",
       "  'token_str': 'ತೆರಳಿ'}]"
      ]
     },
     "execution_count": 18,
     "metadata": {},
     "output_type": "execute_result"
    }
   ],
   "source": [
    "from transformers import pipeline\n",
    "pipe = pipeline(\"fill-mask\", model=model, tokenizer=tokenizer)\n",
    "pipe([\"ನಾನು ಮನೆಗೆ [MASK] ಆಮೇಲೆ ಬರುತ್ತೇನೆ\"])"
   ]
  },
  {
   "cell_type": "code",
   "execution_count": null,
   "id": "0aaca3b1",
   "metadata": {},
   "outputs": [],
   "source": []
  }
 ],
 "metadata": {
  "kernelspec": {
   "display_name": "PYTORCH_VENV_PY3.8",
   "language": "python",
   "name": "pytorch_venv_py3.8"
  },
  "language_info": {
   "codemirror_mode": {
    "name": "ipython",
    "version": 3
   },
   "file_extension": ".py",
   "mimetype": "text/x-python",
   "name": "python",
   "nbconvert_exporter": "python",
   "pygments_lexer": "ipython3",
   "version": "3.8.6"
  }
 },
 "nbformat": 4,
 "nbformat_minor": 5
}
